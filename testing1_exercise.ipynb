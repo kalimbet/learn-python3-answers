{
 "cells": [
  {
   "cell_type": "code",
   "execution_count": 25,
   "metadata": {},
   "outputs": [
    {
     "name": "stdout",
     "output_type": "stream",
     "text": [
      "Requirement already satisfied: pytest in c:\\users\\wikto\\anaconda3\\lib\\site-packages (4.0.2)\n",
      "Requirement already satisfied: py>=1.5.0 in c:\\users\\wikto\\anaconda3\\lib\\site-packages (from pytest) (1.7.0)\n",
      "Requirement already satisfied: six>=1.10.0 in c:\\users\\wikto\\anaconda3\\lib\\site-packages (from pytest) (1.12.0)\n",
      "Requirement already satisfied: setuptools in c:\\users\\wikto\\anaconda3\\lib\\site-packages (from pytest) (40.6.3)\n",
      "Requirement already satisfied: attrs>=17.4.0 in c:\\users\\wikto\\anaconda3\\lib\\site-packages (from pytest) (18.2.0)\n",
      "Requirement already satisfied: more-itertools>=4.0.0 in c:\\users\\wikto\\anaconda3\\lib\\site-packages (from pytest) (4.3.0)\n",
      "Requirement already satisfied: atomicwrites>=1.0 in c:\\users\\wikto\\anaconda3\\lib\\site-packages (from pytest) (1.2.1)\n",
      "Requirement already satisfied: pluggy>=0.7 in c:\\users\\wikto\\anaconda3\\lib\\site-packages (from pytest) (0.8.0)\n",
      "Requirement already satisfied: colorama in c:\\users\\wikto\\anaconda3\\lib\\site-packages (from pytest) (0.4.1)\n",
      "Requirement already satisfied: ipytest in c:\\users\\wikto\\anaconda3\\lib\\site-packages (0.5.0)\n"
     ]
    }
   ],
   "source": [
    "# Required boilerplate\n",
    "import sys\n",
    "!{sys.executable} -m pip install pytest\n",
    "!{sys.executable} -m pip install ipytest\n",
    "\n",
    "import ipytest.magics\n",
    "import pytest\n",
    "\n",
    "__file__ = 'testing1_exercise.ipynb'"
   ]
  },
  {
   "cell_type": "markdown",
   "metadata": {},
   "source": [
    "# 1. Creating your first test case\n",
    "There is an implementation for `get_divisible_by_five` function in the cell below. Your task is to create a test case for this function to verify that it works correctly.\n"
   ]
  },
  {
   "cell_type": "code",
   "execution_count": 28,
   "metadata": {
    "editable": false
   },
   "outputs": [],
   "source": [
    "def get_divisible_by_five(numbers):\n",
    "    '''Returns a list of numbers which are divisible by five in the list got as an argument'''\n",
    "    result = []\n",
    "    for num in numbers:\n",
    "        if not num % 5:\n",
    "            result.append(num)\n",
    "\n",
    "    return result"
   ]
  },
  {
   "cell_type": "code",
   "execution_count": 29,
   "metadata": {},
   "outputs": [
    {
     "name": "stdout",
     "output_type": "stream",
     "text": [
      "============================= test session starts =============================\n",
      "platform win32 -- Python 3.7.1, pytest-4.0.2, py-1.7.0, pluggy-0.8.0\n",
      "rootdir: C:\\Users\\wikto, inifile:\n",
      "plugins: remotedata-0.3.1, openfiles-0.3.1, doctestplus-0.2.0, arraydiff-0.3\n",
      "collected 1 item\n",
      "\n",
      "testing1_exercise.py .                                                   [100%]\n",
      "\n",
      "============================== warnings summary ===============================\n",
      "Anaconda3\\lib\\site-packages\\_pytest\\config\\__init__.py:754\n",
      "  C:\\Users\\wikto\\Anaconda3\\lib\\site-packages\\_pytest\\config\\__init__.py:754: PytestWarning: Module already imported so cannot be rewritten: pytest_remotedata\n",
      "    self._mark_plugins_for_rewrite(hook)\n",
      "  C:\\Users\\wikto\\Anaconda3\\lib\\site-packages\\_pytest\\config\\__init__.py:754: PytestWarning: Module already imported so cannot be rewritten: pytest_openfiles\n",
      "    self._mark_plugins_for_rewrite(hook)\n",
      "  C:\\Users\\wikto\\Anaconda3\\lib\\site-packages\\_pytest\\config\\__init__.py:754: PytestWarning: Module already imported so cannot be rewritten: pytest_doctestplus\n",
      "    self._mark_plugins_for_rewrite(hook)\n",
      "  C:\\Users\\wikto\\Anaconda3\\lib\\site-packages\\_pytest\\config\\__init__.py:754: PytestWarning: Module already imported so cannot be rewritten: pytest_arraydiff\n",
      "    self._mark_plugins_for_rewrite(hook)\n",
      "\n",
      "-- Docs: https://docs.pytest.org/en/latest/warnings.html\n",
      "==================== 1 passed, 4 warnings in 0.03 seconds =====================\n"
     ]
    }
   ],
   "source": [
    "%%run_pytest[clean]\n",
    "\n",
    "def test_get_divisible_by_five():\n",
    "    # Your implementation here\n",
    "    assert get_divisible_by_five([3,10]) == [10]"
   ]
  },
  {
   "cell_type": "code",
   "execution_count": null,
   "metadata": {},
   "outputs": [],
   "source": []
  }
 ],
 "metadata": {
  "kernelspec": {
   "display_name": "Python 3",
   "language": "python",
   "name": "python3"
  },
  "language_info": {
   "codemirror_mode": {
    "name": "ipython",
    "version": 3
   },
   "file_extension": ".py",
   "mimetype": "text/x-python",
   "name": "python",
   "nbconvert_exporter": "python",
   "pygments_lexer": "ipython3",
   "version": "3.7.1"
  }
 },
 "nbformat": 4,
 "nbformat_minor": 2
}
