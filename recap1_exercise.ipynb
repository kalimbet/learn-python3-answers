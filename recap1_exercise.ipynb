{
 "cells": [
  {
   "cell_type": "markdown",
   "metadata": {},
   "source": [
    "# 1. Super vowels\n",
    "Implement `super_vowels` function which takes a string as an argument and returns a modified version of that string. In the return value of `super_vowels`, all vowels should be in upper case whereas all consonants should be in lower case. The vowels are listed in the `VOWELS` variable."
   ]
  },
  {
   "cell_type": "code",
   "execution_count": 15,
   "metadata": {
    "editable": false
   },
   "outputs": [],
   "source": [
    "VOWELS = ['a', 'e', 'i', 'o', 'u']"
   ]
  },
  {
   "cell_type": "code",
   "execution_count": 28,
   "metadata": {},
   "outputs": [],
   "source": [
    "def super_vowels(words, list1 = None):\n",
    "    if not list1:\n",
    "        list1 = []\n",
    "        list2 = []\n",
    "        for c in VOWELS:\n",
    "          list2.append(c.upper())\n",
    "    for c in words:\n",
    "      if c == c in VOWELS:\n",
    "        list1.append(c.upper())       \n",
    "      elif c.isupper():\n",
    "        if c == c in list2:\n",
    "          list1.append(c) \n",
    "        else:\n",
    "          list1.append(c.lower())\n",
    "      else:\n",
    "        list1.append(c.lower())\n",
    "    \n",
    "    result = \"\".join(list1)\n",
    "    return result"
   ]
  },
  {
   "cell_type": "code",
   "execution_count": 29,
   "metadata": {
    "editable": false
   },
   "outputs": [],
   "source": [
    "assert super_vowels('hi wassup!') == 'hI wAssUp!'\n",
    "assert super_vowels('HOw aRE You?') == 'hOw ArE yOU?'"
   ]
  },
  {
   "cell_type": "markdown",
   "metadata": {},
   "source": [
    "# 2. Playing board\n",
    "Implement `get_playing_board` function which takes an integer as an argument. The function should return a string which resemples a playing board (e.g. a chess board). The board should contain as many rows and columns as requested by the interger argument. See the cell below for examples of desired behavior.\n"
   ]
  },
  {
   "cell_type": "code",
   "execution_count": null,
   "metadata": {},
   "outputs": [],
   "source": [
    "def get_playing_board(number):\n",
    "    arr = []\n",
    "    for i in range(number):\n",
    "        arr.append([])\n",
    "        list1 = []\n",
    "        for j in range(number):\n",
    "            if (i + j) % 2 == 0:\n",
    "                arr[i].append(' ')\n",
    "            else:\n",
    "                arr[i].append('*')\n",
    "    for x in arr:\n",
    "        arr.append(''.join(x))\n",
    "    return tuple(arr)  "
   ]
  },
  {
   "cell_type": "code",
   "execution_count": null,
   "metadata": {
    "editable": false
   },
   "outputs": [],
   "source": [
    "board_of_5 = (\n",
    "' * * \\n'\n",
    "'* * *\\n'\n",
    "' * * \\n'\n",
    "'* * *\\n'\n",
    "' * * \\n'\n",
    ")\n",
    "\n",
    "board_of_10 = (\n",
    "' * * * * *\\n'\n",
    "'* * * * * \\n'\n",
    "' * * * * *\\n'\n",
    "'* * * * * \\n'\n",
    "' * * * * *\\n'\n",
    "'* * * * * \\n'\n",
    "' * * * * *\\n'\n",
    "'* * * * * \\n'\n",
    "' * * * * *\\n'\n",
    "'* * * * * \\n'\n",
    ")\n",
    "\n",
    "assert get_playing_board(5) == board_of_5\n",
    "assert get_playing_board(10) == board_of_10\n",
    "\n",
    "print(get_playing_board(50))"
   ]
  },
  {
   "cell_type": "code",
   "execution_count": null,
   "metadata": {},
   "outputs": [],
   "source": []
  },
  {
   "cell_type": "code",
   "execution_count": null,
   "metadata": {},
   "outputs": [],
   "source": []
  },
  {
   "cell_type": "code",
   "execution_count": null,
   "metadata": {},
   "outputs": [],
   "source": []
  },
  {
   "cell_type": "code",
   "execution_count": null,
   "metadata": {},
   "outputs": [],
   "source": []
  }
 ],
 "metadata": {
  "kernelspec": {
   "display_name": "Python 3",
   "language": "python",
   "name": "python3"
  },
  "language_info": {
   "codemirror_mode": {
    "name": "ipython",
    "version": 3
   },
   "file_extension": ".py",
   "mimetype": "text/x-python",
   "name": "python",
   "nbconvert_exporter": "python",
   "pygments_lexer": "ipython3",
   "version": "3.7.1"
  }
 },
 "nbformat": 4,
 "nbformat_minor": 2
}
